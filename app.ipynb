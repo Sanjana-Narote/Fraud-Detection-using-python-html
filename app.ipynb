{
 "cells": [
  {
   "cell_type": "code",
   "execution_count": 1,
   "id": "f5c20b30-bc50-444b-8f3d-baeb9120a072",
   "metadata": {},
   "outputs": [],
   "source": [
    "import numpy as np\n",
    "from flask import Flask,request,jsonify,render_template"
   ]
  },
  {
   "cell_type": "code",
   "execution_count": null,
   "id": "86deb45f-fefe-4a4a-96ac-73a78390cca2",
   "metadata": {},
   "outputs": [
    {
     "name": "stdout",
     "output_type": "stream",
     "text": [
      " * Serving Flask app '__main__'\n",
      " * Debug mode: off\n"
     ]
    },
    {
     "name": "stderr",
     "output_type": "stream",
     "text": [
      "WARNING: This is a development server. Do not use it in a production deployment. Use a production WSGI server instead.\n",
      " * Running on http://127.0.0.1:5000\n",
      "Press CTRL+C to quit\n",
      "127.0.0.1 - - [19/Jul/2024 19:02:33] \"GET / HTTP/1.1\" 200 -\n",
      "127.0.0.1 - - [19/Jul/2024 19:02:34] \"GET /static/styles.css HTTP/1.1\" 304 -\n",
      "127.0.0.1 - - [19/Jul/2024 19:02:35] \"GET /favicon.ico HTTP/1.1\" 404 -\n",
      "127.0.0.1 - - [19/Jul/2024 19:02:55] \"POST /predict HTTP/1.1\" 200 -\n",
      "127.0.0.1 - - [19/Jul/2024 19:02:55] \"GET /static/styles.css HTTP/1.1\" 304 -\n"
     ]
    }
   ],
   "source": [
    "import numpy as np\n",
    "from flask import Flask,request,jsonify,render_template\n",
    "import pickle\n",
    "app=Flask(__name__)\n",
    "\n",
    "loaded_pickle_model = pickle.load(open(\"Fraud1.pkl\", \"rb\"))\n",
    "\n",
    "@app.route(\"/\")\n",
    "def home():\n",
    "    return render_template(\"index.html\")\n",
    "\n",
    "@app.route(\"/predict\", methods=[\"POST\"])\n",
    "def predict():\n",
    "    float_features= [float(x) for x in request.form.values()]\n",
    "    features=[np.array(float_features)]\n",
    "    prediction=loaded_pickle_model.predict(features)\n",
    "    \n",
    "    return render_template(\"index.html\", prediction_text= \"Transaction Status: {}\".format(prediction))\n",
    "\n",
    "if __name__ == \"__main__\":\n",
    "    app.run(host='127.0.0.1', port=5000)"
   ]
  },
  {
   "cell_type": "code",
   "execution_count": null,
   "id": "888f6c60-cd65-4b75-8f9f-a99548f909e3",
   "metadata": {},
   "outputs": [],
   "source": []
  }
 ],
 "metadata": {
  "kernelspec": {
   "display_name": "Python 3 (ipykernel)",
   "language": "python",
   "name": "python3"
  },
  "language_info": {
   "codemirror_mode": {
    "name": "ipython",
    "version": 3
   },
   "file_extension": ".py",
   "mimetype": "text/x-python",
   "name": "python",
   "nbconvert_exporter": "python",
   "pygments_lexer": "ipython3",
   "version": "3.11.7"
  }
 },
 "nbformat": 4,
 "nbformat_minor": 5
}
